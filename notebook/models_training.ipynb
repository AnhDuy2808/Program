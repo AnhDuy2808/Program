{
 "cells": [
  {
   "cell_type": "code",
   "execution_count": 1,
   "id": "240b722a",
   "metadata": {},
   "outputs": [],
   "source": [
    "import pandas as pd\n",
    "from sklearn.model_selection import train_test_split\n",
    "import joblib"
   ]
  },
  {
   "cell_type": "code",
   "execution_count": 2,
   "id": "0980a756",
   "metadata": {},
   "outputs": [],
   "source": [
    "df = pd.read_csv('../data/pd_speech_features_scaled.csv')\n",
    "\n",
    "X = df.drop(columns=['class', 'id'])\n",
    "y = df['class']\n",
    "\n",
    "X_train, X_test, y_train, y_test = train_test_split(X, y, test_size=0.2, random_state=42, stratify=y)"
   ]
  },
  {
   "cell_type": "code",
   "execution_count": 3,
   "id": "11554269",
   "metadata": {},
   "outputs": [],
   "source": [
    "from sklearn.ensemble import RandomForestClassifier\n",
    "from sklearn.metrics import classification_report\n",
    "from imblearn.over_sampling import SMOTE"
   ]
  },
  {
   "cell_type": "code",
   "execution_count": 6,
   "id": "7935a55d",
   "metadata": {},
   "outputs": [
    {
     "name": "stdout",
     "output_type": "stream",
     "text": [
      "Classification Report:\n",
      "              precision    recall  f1-score   support\n",
      "\n",
      "           0       0.61      0.64      0.62        39\n",
      "           1       0.87      0.86      0.87       113\n",
      "\n",
      "    accuracy                           0.80       152\n",
      "   macro avg       0.74      0.75      0.75       152\n",
      "weighted avg       0.81      0.80      0.80       152\n",
      "\n",
      "Accuracy: 0.8026315789473685\n",
      "\n",
      "Feature Importance:\n",
      "                       feature  importance\n",
      "3             meanPeriodPulses    0.128577\n",
      "13                apq11Shimmer    0.088653\n",
      "6                 locAbsJitter    0.075493\n",
      "7                    rapJitter    0.064467\n",
      "5                 locPctJitter    0.064359\n",
      "4           stdDevPeriodPulses    0.061035\n",
      "10                  locShimmer    0.058159\n",
      "9                    ddpJitter    0.056471\n",
      "17  meanHarmToNoiseHarmonicity    0.054695\n",
      "8                   ppq5Jitter    0.054578\n",
      "2                         RPDE    0.053705\n",
      "12                 apq5Shimmer    0.042776\n",
      "16  meanNoiseToHarmHarmonicity    0.040279\n",
      "1                          PPE    0.040063\n",
      "15     meanAutoCorrHarmonicity    0.038979\n",
      "11                 apq3Shimmer    0.034625\n",
      "14                  ddaShimmer    0.034552\n",
      "0                       gender    0.008532\n"
     ]
    },
    {
     "data": {
      "text/plain": [
       "['random_forest_model.pkl']"
      ]
     },
     "execution_count": 6,
     "metadata": {},
     "output_type": "execute_result"
    }
   ],
   "source": [
    "smote = SMOTE(random_state=42)\n",
    "X_train_res, y_train_res = smote.fit_resample(X_train, y_train)\n",
    "model = RandomForestClassifier(n_estimators=200,max_depth=8, min_samples_leaf=5, random_state=42, class_weight='balanced')\n",
    "model.fit(X_train_res, y_train_res)\n",
    "\n",
    "y_pred = model.predict(X_test)\n",
    "print(\"Classification Report:\")\n",
    "print(classification_report(y_test, y_pred))\n",
    "\n",
    "print(\"Accuracy:\", model.score(X_test, y_test))\n",
    "\n",
    "# In feature importance\n",
    "feature_importance = pd.DataFrame({\n",
    "    'feature': X.columns,\n",
    "    'importance': model.feature_importances_\n",
    "}).sort_values(by='importance', ascending=False)\n",
    "print(\"\\nFeature Importance:\")\n",
    "print(feature_importance)\n",
    "\n",
    "joblib.dump(model, 'random_forest_model.pkl')"
   ]
  }
 ],
 "metadata": {
  "kernelspec": {
   "display_name": "Python 3",
   "language": "python",
   "name": "python3"
  },
  "language_info": {
   "codemirror_mode": {
    "name": "ipython",
    "version": 3
   },
   "file_extension": ".py",
   "mimetype": "text/x-python",
   "name": "python",
   "nbconvert_exporter": "python",
   "pygments_lexer": "ipython3",
   "version": "3.11.0"
  }
 },
 "nbformat": 4,
 "nbformat_minor": 5
}
